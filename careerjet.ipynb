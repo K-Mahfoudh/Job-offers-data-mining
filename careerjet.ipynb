{
 "cells": [
  {
   "cell_type": "code",
   "execution_count": 2,
   "metadata": {},
   "outputs": [
    {
     "name": "stdout",
     "output_type": "stream",
     "text": [
      "Collecting careerjet_api_client\n",
      "  Downloading careerjet_api_client-3.0.1.tar.gz (3.5 kB)\n",
      "Requirement already satisfied: requests in c:\\users\\mahfoudh\\anaconda3\\lib\\site-packages (from careerjet_api_client) (2.24.0)\n",
      "Requirement already satisfied: certifi>=2017.4.17 in c:\\users\\mahfoudh\\anaconda3\\lib\\site-packages (from requests->careerjet_api_client) (2020.6.20)\n",
      "Requirement already satisfied: chardet<4,>=3.0.2 in c:\\users\\mahfoudh\\anaconda3\\lib\\site-packages (from requests->careerjet_api_client) (3.0.4)\n",
      "Requirement already satisfied: urllib3!=1.25.0,!=1.25.1,<1.26,>=1.21.1 in c:\\users\\mahfoudh\\anaconda3\\lib\\site-packages (from requests->careerjet_api_client) (1.25.11)\n",
      "Requirement already satisfied: idna<3,>=2.5 in c:\\users\\mahfoudh\\anaconda3\\lib\\site-packages (from requests->careerjet_api_client) (2.10)\n",
      "Building wheels for collected packages: careerjet-api-client\n",
      "  Building wheel for careerjet-api-client (setup.py): started\n",
      "  Building wheel for careerjet-api-client (setup.py): finished with status 'done'\n",
      "  Created wheel for careerjet-api-client: filename=careerjet_api_client-3.0.1-py3-none-any.whl size=4259 sha256=42e90c71091e2897c764d559ed566e9dbf0213aad0141ec93cd0289f494a5522\n",
      "  Stored in directory: c:\\users\\mahfoudh\\appdata\\local\\pip\\cache\\wheels\\50\\48\\cb\\a4ce98e9b5be16fbcfe49465cf438cd87aae054cd6ad17db32\n",
      "Successfully built careerjet-api-client\n",
      "Installing collected packages: careerjet-api-client\n",
      "Successfully installed careerjet-api-client-3.0.1\n"
     ]
    }
   ],
   "source": [
    "!pip install careerjet_api_client"
   ]
  },
  {
   "cell_type": "code",
   "execution_count": 20,
   "metadata": {},
   "outputs": [],
   "source": [
    "from careerjet_api_client import CareerjetAPIClient\n",
    "import pandas as pd\n",
    "import argparse\n",
    "import urllib"
   ]
  },
  {
   "cell_type": "code",
   "execution_count": 21,
   "metadata": {},
   "outputs": [],
   "source": [
    "# Function to make api call\n",
    "def make_request(page, args):\n",
    "    url = add_url_params(args)\n",
    "    cj = CareerjetAPIClient(\"en_US\");\n",
    "    result_json = cj.search({\n",
    "        'location': args.location,\n",
    "        'affid': args.aff_id,\n",
    "        'user_ip': args.user_ip,\n",
    "        'pagesize': args.page_size,\n",
    "        'keywords': args.keywords,\n",
    "        'page': page,\n",
    "        'url': url,\n",
    "        'user_agent': 'Mozilla/5.0 (X11; Linux x86_64; rv:31.0) Gecko/20100101 Firefox/31.0'\n",
    "    });\n",
    "    return result_json['pages'], result_json\n"
   ]
  },
  {
   "cell_type": "code",
   "execution_count": 39,
   "metadata": {},
   "outputs": [],
   "source": [
    "# searching jobs available by loction and keywords\n",
    "def request_jobs(args):\n",
    "    # Getting total pages number\n",
    "    if (not args.pages):\n",
    "        pages, _ = make_request(1, args)\n",
    "    else:\n",
    "        pages = args.pages\n",
    "\n",
    "    # getting jobs in each page\n",
    "    job_list = []\n",
    "    for page_number in range(pages):\n",
    "        _, result_json = make_request(page_number, args)\n",
    "        for job in result_json[\"jobs\"]:\n",
    "            job_list.append(job)\n",
    "\n",
    "    # Converting list of jobs to dataframe\n",
    "    df = pd.DataFrame(job_list)\n",
    "    \n",
    "    # Storing data into csv file\n",
    "    df.to_csv(args.csv_destination)\n",
    "    \n",
    "    # Returning dataframe\n",
    "    return df"
   ]
  },
  {
   "cell_type": "code",
   "execution_count": 40,
   "metadata": {},
   "outputs": [],
   "source": [
    "# A function that take keywords, and converts it into url parameters\n",
    "def add_url_params(args):\n",
    "    param_dict = {}\n",
    "    param_dict[\"s\"] = args.keywords\n",
    "    param_dict[\"l\"] = args.location\n",
    "    url = args.api_url + '?' + urllib.parse.urlencode(param_dict)\n",
    "    return url"
   ]
  },
  {
   "cell_type": "code",
   "execution_count": 45,
   "metadata": {},
   "outputs": [],
   "source": [
    "# Main function\n",
    "def main(args):\n",
    "    parser = argparse.ArgumentParser(description='Controling search keywords and parameters')\n",
    "    parser.add_argument(\n",
    "        '-k', '--keywords', required=False, type=str, help='keywords used in searching', default=\"python automation\")\n",
    "    parser.add_argument(\n",
    "        '-p', '--pages', required=False, type=int, help='Number of pages')\n",
    "    parser.add_argument(\n",
    "        '-ps', '--page_size', required=False, type=int, help='size of jobs to be extracted on each request', default=99)\n",
    "    parser.add_argument(\n",
    "        '-l', '--location', required=False, type=str, help='location of searched jobs', default=\"New York City, NY\")\n",
    "    parser.add_argument(\n",
    "        '-ai', '--aff_id', required=False, type=str, help='API id provided by careetjet', default=\"213e213hd12344552\")\n",
    "    parser.add_argument(\n",
    "        '-i', '--user_ip', required=False, type=str, help=\"user's ip\", default=\"11.22.33.44\")\n",
    "    parser.add_argument(\n",
    "        '-u', '--api_url', required=False, type=str,\n",
    "        help=\"url of the request, can be found when doing a search in careerjet\",\n",
    "        default=\"https://www.careerjet.com/search/jobs\")\n",
    "    parser.add_argument(\n",
    "        '-c', '--csv_destination', required=False, type=str, help=\"user's ip\", default=\"jobs_list.csv\")\n",
    "\n",
    "    # Getting command line arguments\n",
    "    args = parser.parse_args(args)\n",
    "\n",
    "    # searching jobs\n",
    "    df = request_jobs(args)\n",
    "    print(df.head())"
   ]
  },
  {
   "cell_type": "code",
   "execution_count": 46,
   "metadata": {},
   "outputs": [
    {
     "name": "stdout",
     "output_type": "stream",
     "text": [
      "           locations site                           date  \\\n",
      "0  New York City, NY       Wed, 27 Jan 2021 23:15:47 GMT   \n",
      "1  New York City, NY       Tue, 26 Jan 2021 23:06:37 GMT   \n",
      "2  New York City, NY       Tue, 26 Jan 2021 23:34:21 GMT   \n",
      "3  New York City, NY       Fri, 22 Jan 2021 23:59:31 GMT   \n",
      "4  New York City, NY       Fri, 22 Jan 2021 23:01:58 GMT   \n",
      "\n",
      "                                                 url  \\\n",
      "0  http://jobviewtrack.com/en-us/job-1f1b417e480a...   \n",
      "1  http://jobviewtrack.com/en-us/job-191d416c5810...   \n",
      "2  http://jobviewtrack.com/en-us/job-1c1e416c5810...   \n",
      "3  http://jobviewtrack.com/en-us/job-1c4d417e480a...   \n",
      "4  http://jobviewtrack.com/en-us/job-481d417d5410...   \n",
      "\n",
      "                                             title  \\\n",
      "0  Senior Python Developer - Investment Management   \n",
      "1   Cloud Automation Engineer (No C2C/Sponsorship)   \n",
      "2                   Infrastructure Automation Lead   \n",
      "3    Senior Software Engineer - BQ Test Automation   \n",
      "4                          Quant Developer- Python   \n",
      "\n",
      "                                         description company salary  \\\n",
      "0  Senior <b>Python</b> or C++ Developer - The Re...                  \n",
      "1  Our Client, a leader within their industry, is...                  \n",
      "2  , <b>Python</b>, Powershell, Scala and Java Pr...                  \n",
      "3   for this platform. That's where you come in. ...                  \n",
      "4  Building high-performance components for both ...                  \n",
      "\n",
      "  salary_min salary_type salary_currency_code salary_max  \n",
      "0        NaN         NaN                  NaN        NaN  \n",
      "1        NaN         NaN                  NaN        NaN  \n",
      "2        NaN         NaN                  NaN        NaN  \n",
      "3        NaN         NaN                  NaN        NaN  \n",
      "4        NaN         NaN                  NaN        NaN  \n"
     ]
    }
   ],
   "source": [
    "# Define your arguments here (same as command line arguments, but this time assign it to the args variable)\n",
    "args = \"\"\n",
    "if __name__ == '__main__':\n",
    "    main(args)"
   ]
  },
  {
   "cell_type": "code",
   "execution_count": null,
   "metadata": {},
   "outputs": [],
   "source": []
  }
 ],
 "metadata": {
  "kernelspec": {
   "display_name": "Python 3",
   "language": "python",
   "name": "python3"
  },
  "language_info": {
   "codemirror_mode": {
    "name": "ipython",
    "version": 3
   },
   "file_extension": ".py",
   "mimetype": "text/x-python",
   "name": "python",
   "nbconvert_exporter": "python",
   "pygments_lexer": "ipython3",
   "version": "3.8.5"
  }
 },
 "nbformat": 4,
 "nbformat_minor": 4
}
